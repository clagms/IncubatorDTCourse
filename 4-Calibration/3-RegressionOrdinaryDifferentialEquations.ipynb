{
 "cells": [
  {
   "cell_type": "markdown",
   "metadata": {},
   "source": [
    "# Parameter Estimation for a Scalar Nonlinear Differential Equation\n",
    "\n",
    "This tutorial demonstrates how to estimate the parameters of a scalar nonlinear differential equation using Python.\n",
    "\n",
    "## Overview\n",
    "We will:\n",
    "1. Define a nonlinear ODE model.\n",
    "2. Generate synthetic data using `solve_ivp` and add noise.\n",
    "3. Estimate parameters by fitting the data using `least_squares`.\n",
    "4. Plot the results to compare the noisy data and the estimated model.\n",
    "\n",
    "## Implementation"
   ]
  },
  {
   "cell_type": "code",
   "execution_count": 3,
   "metadata": {},
   "outputs": [],
   "source": [
    "import numpy as np\n",
    "import matplotlib.pyplot as plt\n",
    "from scipy.integrate import solve_ivp\n",
    "from scipy.optimize import least_squares\n",
    "\n",
    "# Define the logistic growth ODE model\n",
    "def nonlinear_ode(t, y, a, b):\n",
    "    return a * y * (1 - b * y)\n",
    "\n",
    "# Generate synthetic data\n",
    "def generate_data(a_true, b_true, y0, t_span, t_eval, noise_std=0.05):\n",
    "    sol = solve_ivp(nonlinear_ode, t_span, [y0], t_eval=t_eval, args=(a_true, b_true))\n",
    "    assert sol.success, \"Integration failed\"\n",
    "    y_noisy = sol.y[0] + np.random.normal(0, noise_std, size=sol.y.shape[1])\n",
    "    return t_eval, y_noisy\n",
    "\n",
    "# Function to fit the parameters\n",
    "def estimate_parameters(t, y_meas, y0):\n",
    "    def residuals(params):\n",
    "        a, b = params\n",
    "        sol = solve_ivp(nonlinear_ode, (t[0], t[-1]), [y0], t_eval=t, args=(a, b))\n",
    "        assert sol.success, \"Integration failed\"\n",
    "        return sol.y[0] - y_meas\n",
    "    \n",
    "    result = least_squares(residuals, x0=[0.5, 0.1])\n",
    "    return result.x\n"
   ]
  },
  {
   "cell_type": "code",
   "execution_count": 4,
   "metadata": {},
   "outputs": [
    {
     "ename": "AssertionError",
     "evalue": "Integration failed",
     "output_type": "error",
     "traceback": [
      "\u001b[1;31m---------------------------------------------------------------------------\u001b[0m",
      "\u001b[1;31mAssertionError\u001b[0m                            Traceback (most recent call last)",
      "Cell \u001b[1;32mIn[4], line 9\u001b[0m\n\u001b[0;32m      6\u001b[0m t_eval \u001b[38;5;241m=\u001b[39m np\u001b[38;5;241m.\u001b[39mlinspace(t_span[\u001b[38;5;241m0\u001b[39m], t_span[\u001b[38;5;241m1\u001b[39m], \u001b[38;5;241m50\u001b[39m)\n\u001b[0;32m      8\u001b[0m \u001b[38;5;66;03m# Generate data\u001b[39;00m\n\u001b[1;32m----> 9\u001b[0m t, y_meas \u001b[38;5;241m=\u001b[39m \u001b[43mgenerate_data\u001b[49m\u001b[43m(\u001b[49m\u001b[43ma_true\u001b[49m\u001b[43m,\u001b[49m\u001b[43m \u001b[49m\u001b[43mb_true\u001b[49m\u001b[43m,\u001b[49m\u001b[43m \u001b[49m\u001b[43my0\u001b[49m\u001b[43m,\u001b[49m\u001b[43m \u001b[49m\u001b[43mt_span\u001b[49m\u001b[43m,\u001b[49m\u001b[43m \u001b[49m\u001b[43mt_eval\u001b[49m\u001b[43m)\u001b[49m\n\u001b[0;32m     11\u001b[0m \u001b[38;5;66;03m# Plot generated data\u001b[39;00m\n\u001b[0;32m     12\u001b[0m plt\u001b[38;5;241m.\u001b[39mfigure(figsize\u001b[38;5;241m=\u001b[39m(\u001b[38;5;241m8\u001b[39m, \u001b[38;5;241m5\u001b[39m))\n",
      "Cell \u001b[1;32mIn[3], line 13\u001b[0m, in \u001b[0;36mgenerate_data\u001b[1;34m(a_true, b_true, y0, t_span, t_eval, noise_std)\u001b[0m\n\u001b[0;32m     11\u001b[0m \u001b[38;5;28;01mdef\u001b[39;00m\u001b[38;5;250m \u001b[39m\u001b[38;5;21mgenerate_data\u001b[39m(a_true, b_true, y0, t_span, t_eval, noise_std\u001b[38;5;241m=\u001b[39m\u001b[38;5;241m0.05\u001b[39m):\n\u001b[0;32m     12\u001b[0m     sol \u001b[38;5;241m=\u001b[39m solve_ivp(nonlinear_ode, t_span, [y0], t_eval\u001b[38;5;241m=\u001b[39mt_eval, args\u001b[38;5;241m=\u001b[39m(a_true, b_true))\n\u001b[1;32m---> 13\u001b[0m     \u001b[38;5;28;01massert\u001b[39;00m sol\u001b[38;5;241m.\u001b[39msuccess, \u001b[38;5;124m\"\u001b[39m\u001b[38;5;124mIntegration failed\u001b[39m\u001b[38;5;124m\"\u001b[39m\n\u001b[0;32m     14\u001b[0m     y_noisy \u001b[38;5;241m=\u001b[39m sol\u001b[38;5;241m.\u001b[39my[\u001b[38;5;241m0\u001b[39m] \u001b[38;5;241m+\u001b[39m np\u001b[38;5;241m.\u001b[39mrandom\u001b[38;5;241m.\u001b[39mnormal(\u001b[38;5;241m0\u001b[39m, noise_std, size\u001b[38;5;241m=\u001b[39msol\u001b[38;5;241m.\u001b[39my\u001b[38;5;241m.\u001b[39mshape[\u001b[38;5;241m1\u001b[39m])\n\u001b[0;32m     15\u001b[0m     \u001b[38;5;28;01mreturn\u001b[39;00m t_eval, y_noisy\n",
      "\u001b[1;31mAssertionError\u001b[0m: Integration failed"
     ]
    }
   ],
   "source": [
    "# True parameters\n",
    "a_true = 0.5\n",
    "b_true = -0.3\n",
    "y0 = 1.0\n",
    "t_span = (0, 5)\n",
    "t_eval = np.linspace(t_span[0], t_span[1], 50)\n",
    "\n",
    "# Generate data\n",
    "t, y_meas = generate_data(a_true, b_true, y0, t_span, t_eval)\n",
    "\n",
    "# Plot generated data\n",
    "plt.figure(figsize=(8, 5))\n",
    "plt.scatter(t, y_meas, label=\"Noisy Data\", color='red')\n",
    "plt.xlabel(\"Time\")\n",
    "plt.ylabel(\"y\")\n",
    "plt.legend()\n",
    "plt.title(\"Generated Data for Nonlinear ODE\")\n",
    "plt.show()"
   ]
  },
  {
   "cell_type": "code",
   "execution_count": null,
   "metadata": {},
   "outputs": [],
   "source": [
    "\n",
    "\n",
    "# Estimate parameters\n",
    "a_est, b_est = estimate_parameters(t, y_meas, y0)\n",
    "\n",
    "# Plot results\n",
    "plt.figure(figsize=(8, 5))\n",
    "plt.scatter(t, y_meas, label=\"Noisy Data\", color='red')\n",
    "sol_est = solve_ivp(nonlinear_ode, t_span, [y0], t_eval=t, args=(a_est, b_est))\n",
    "plt.plot(t, sol_est.y[0], label=f\"Fitted Model (a={a_est:.2f}, b={b_est:.2f})\", linestyle='dashed')\n",
    "plt.xlabel(\"Time\")\n",
    "plt.ylabel(\"y\")\n",
    "plt.legend()\n",
    "plt.title(\"Parameter Estimation for Nonlinear ODE\")\n",
    "plt.show()\n",
    "\n",
    "print(f\"Estimated Parameters: a = {a_est:.2f}, b = {b_est:.2f}\")"
   ]
  },
  {
   "cell_type": "markdown",
   "metadata": {},
   "source": [
    "\n",
    "```python\n",
    "\n",
    "```\n",
    "\n",
    "## Explanation\n",
    "- We define the nonlinear ODE: \\( \\frac{dy}{dt} = a y^2 + b y \\).\n",
    "- We generate synthetic data by solving the ODE numerically and adding noise.\n",
    "- We estimate the parameters by solving an inverse problem using `curve_fit`.\n",
    "- Finally, we visualize the results to compare the noisy data with the fitted model.\n",
    "\n",
    "## Results\n",
    "The estimated parameters should be close to the true values \\( a = 0.5 \\), \\( b = -0.3 \\), but some deviation is expected due to noise.\n"
   ]
  }
 ],
 "metadata": {
  "kernelspec": {
   "display_name": "Python 3",
   "language": "python",
   "name": "python3"
  },
  "language_info": {
   "codemirror_mode": {
    "name": "ipython",
    "version": 3
   },
   "file_extension": ".py",
   "mimetype": "text/x-python",
   "name": "python",
   "nbconvert_exporter": "python",
   "pygments_lexer": "ipython3",
   "version": "3.11.2"
  }
 },
 "nbformat": 4,
 "nbformat_minor": 2
}
