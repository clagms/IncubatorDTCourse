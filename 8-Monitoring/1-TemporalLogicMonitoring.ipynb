{
 "cells": [
  {
   "cell_type": "markdown",
   "metadata": {},
   "source": [
    "# Example Temporal Logic Monitoring in Python\n",
    "\n",
    "RTAMT is a Python library for monitoring Signal Temporal Logic (STL). It supports both offline and online monitoring of discrete-time and dense-time STL specifications. This tutorial provides a step-by-step guide to installing and using RTAMT.\n",
    "\n",
    "## Installation\n",
    "\n",
    "Install RTAMT as a Python package:"
   ]
  },
  {
   "cell_type": "code",
   "execution_count": 1,
   "metadata": {},
   "outputs": [
    {
     "name": "stdout",
     "output_type": "stream",
     "text": [
      "Collecting rtamt\n",
      "  Downloading rtamt-0.3.5-py3-none-any.whl.metadata (18 kB)\n",
      "Collecting antlr4-python3-runtime==4.7 (from rtamt)\n",
      "  Downloading antlr4-python3-runtime-4.7.tar.gz (110 kB)\n",
      "  Preparing metadata (setup.py): started\n",
      "  Preparing metadata (setup.py): finished with status 'done'\n",
      "Downloading rtamt-0.3.5-py3-none-any.whl (193 kB)\n",
      "Building wheels for collected packages: antlr4-python3-runtime\n",
      "  Building wheel for antlr4-python3-runtime (setup.py): started\n",
      "  Building wheel for antlr4-python3-runtime (setup.py): finished with status 'done'\n",
      "  Created wheel for antlr4-python3-runtime: filename=antlr4_python3_runtime-4.7-py3-none-any.whl size=140481 sha256=2ebb26561e6a884fa888a8fde140f4c8e32acfd2af5d7e6179d92876d991aac6\n",
      "  Stored in directory: c:\\users\\d48113\\appdata\\local\\pip\\cache\\wheels\\dc\\6f\\5a\\1f38294cf80dca5e86d76cbcc8b3e591297dfe283cb4272a15\n",
      "Successfully built antlr4-python3-runtime\n",
      "Installing collected packages: antlr4-python3-runtime, rtamt\n",
      "Successfully installed antlr4-python3-runtime-4.7 rtamt-0.3.5\n",
      "Note: you may need to restart the kernel to use updated packages.\n"
     ]
    }
   ],
   "source": [
    "%pip install rtamt"
   ]
  },
  {
   "cell_type": "markdown",
   "metadata": {},
   "source": [
    "## Usage"
   ]
  },
  {
   "cell_type": "markdown",
   "metadata": {},
   "source": [
    "### Dense-Time Offline Monitor\n",
    "To perform offline monitoring of dense-time STL specifications:"
   ]
  },
  {
   "cell_type": "code",
   "execution_count": 5,
   "metadata": {},
   "outputs": [
    {
     "name": "stdout",
     "output_type": "stream",
     "text": [
      "Robustness: [[0.0, 3.0], [5.0, 3.0]]\n"
     ]
    }
   ],
   "source": [
    "import rtamt\n",
    "\n",
    "# Signals are lists of tuples (timestamp, value)\n",
    "req = [[0.0, 0.0], [3.0, 6.0], [5.0, 0.0]]\n",
    "gnt = [[0.0, 0.0], [7.0, 6.0], [9.0, 0.0]]\n",
    "\n",
    "spec = rtamt.StlDenseTimeSpecification()\n",
    "# Declare the variables that will correspond to the above signals.\n",
    "spec.declare_var('req', 'float')\n",
    "spec.declare_var('gnt', 'float')\n",
    "spec.spec = 'always((req >= 3) implies (eventually[0:5](gnt >= 3)))'\n",
    "spec.parse()\n",
    "\n",
    "# Evaluate the specification and match the variables with the signals.\n",
    "rob = spec.evaluate(['req', req], ['gnt', gnt])\n",
    "\n",
    "print('Robustness:', rob)"
   ]
  },
  {
   "cell_type": "markdown",
   "metadata": {},
   "source": [
    "For more details, refer to the [RTAMT GitHub repository](https://github.com/nickovic/rtamt).\n"
   ]
  }
 ],
 "metadata": {
  "kernelspec": {
   "display_name": "Python 3",
   "language": "python",
   "name": "python3"
  },
  "language_info": {
   "codemirror_mode": {
    "name": "ipython",
    "version": 3
   },
   "file_extension": ".py",
   "mimetype": "text/x-python",
   "name": "python",
   "nbconvert_exporter": "python",
   "pygments_lexer": "ipython3",
   "version": "3.11.2"
  }
 },
 "nbformat": 4,
 "nbformat_minor": 4
}
