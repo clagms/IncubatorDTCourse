{
 "cells": [
  {
   "cell_type": "markdown",
   "metadata": {},
   "source": [
    "# Introduction to Particle Filtering\n",
    "\n",
    "Particle filtering (also known as the Sequential Monte Carlo method) is a powerful technique used in state estimation for nonlinear and non-Gaussian dynamic systems. It's particularly useful when you need to estimate the state of a system over time using noisy and indirect observations.\n",
    "\n",
    "It can be seen as a \"brute-force\" way to estimate the system state, based on running many parallel simulations.\n",
    "\n",
    "## **Why is the Particle Filter Called a \"Filter\"?**\n",
    "\n",
    "The **particle filter** is called a **filter** because it is used to estimate the hidden (latent) state of a **dynamic system** over time, given noisy observations. The term \"filtering\" comes from **Bayesian filtering**, which refers to the process of continuously updating our belief about the system's state as new measurements arrive.\n",
    "\n",
    "### **Formulating the Filtering Problem**\n",
    "The **goal** of filtering is to estimate the **hidden state** $ x_t $ of a system at time $ t $, given a sequence of noisy observations $ z_{1:t} $. \n",
    "\n",
    "A filtering problem is typically formulated using a **state-space model** consisting of:\n",
    "\n",
    "1. **State Transition Model** (How the system evolves):  \n",
    "   $$\n",
    "   x_t = f(x_{t-1}, v_t)\n",
    "   $$\n",
    "   - $ x_t $ is the state at time $ t $.\n",
    "   - $ f(\\cdot) $ is the transition function (possibly nonlinear).\n",
    "   - $ v_t $ is the **process noise**.\n",
    "\n",
    "2. **Observation Model** (How we observe the system):  \n",
    "   $$\n",
    "   z_t = h(x_t, w_t)\n",
    "   $$\n",
    "   - $ z_t $ is the measurement at time $ t $.\n",
    "   - $ h(\\cdot) $ is the observation function (possibly nonlinear).\n",
    "   - $ w_t $ is the **measurement noise**.\n",
    "\n",
    "Given the sequence of measurements $ z_{1:t} $, we aim to compute the **posterior distribution** of the state $ x_t $:\n",
    "\n",
    "$$\n",
    "p(x_t \\mid z_{1:t})\n",
    "$$\n",
    "\n",
    "### **How the Particle Filter Solves This**\n",
    "The particle filter **approximates** the distribution $ p(x_t \\mid z_{1:t}) $ using a set of weighted samples (particles), instead of using an analytical solution (which may be intractable).\n",
    "\n",
    "- Instead of storing a probability distribution, we use **particles** $ \\{x_t^i\\} $ with **weights** $ w_t^i $.\n",
    "- The filtering process involves:\n",
    "  - **Propagating** particles using the transition model.\n",
    "  - **Reweighting** particles using the likelihood of observations.\n",
    "  - **Resampling** to discard unlikely particles and focus on probable ones.\n",
    "\n",
    "## Why Use Particle Filtering?\n",
    "- When systems are nonlinear, traditional methods like the **Kalman filter** (which assumes linearity) don't work well.\n",
    "- When noise is non-Gaussian, the **Extended Kalman Filter (EKF)** and **Unscented Kalman Filter (UKF)** may not perform well.\n",
    "- Particle filtering can handle arbitrary distributions and complex system models.\n",
    "- Easy to incorporate extra knowledge of the system process.\n",
    "\n",
    "## Downsides of Particle Filtering\n",
    "\n",
    "- It's a brute-force technique: more accuracy requires more computational power.\n",
    "- Analysis is complex. If you need to provide guarantees, you need a bachelor in statistics or something to that effect.\n",
    "\n",
    "## How Does It Work?\n",
    "\n",
    "The main idea is to represent the probability distribution of a system's state using a **set of particles** (samples). These particles approximate the **posterior distribution** of the state given the observations. We use the model of the system dynamics to oudpate each particle, and do a selection of the particles that are performing best according to the observations we get from the system.\n",
    "\n",
    "## Steps in a Particle Filter:\n",
    "\n",
    "### 1. **Initialization:** \n",
    "    - Generate $ N $ particles, each representing a possible system state.\n",
    "    - Assign each particle an initial weight (often uniform, but if you have knowledge of the state, use it here)."
   ]
  },
  {
   "cell_type": "code",
   "execution_count": 1,
   "metadata": {},
   "outputs": [
    {
     "name": "stdout",
     "output_type": "stream",
     "text": [
      "Particles: [-0.43141261 -0.24872127 -0.2806034  -0.38671839 -0.7262705 ]\n",
      "Weights: [0.2 0.2 0.2 0.2 0.2]\n"
     ]
    }
   ],
   "source": [
    "import numpy as np\n",
    "import matplotlib.pyplot as plt\n",
    "\n",
    "# Number of particles\n",
    "N = 5\n",
    "\n",
    "# True state (we don't know this in real applications)\n",
    "true_position = 0\n",
    "true_velocity = 1  # Constant velocity\n",
    "\n",
    "# Initialize particles\n",
    "particles = np.random.uniform(-1, 1, N)  # Random positions\n",
    "weights = np.ones(N) / N  # Uniform weights\n",
    "\n",
    "# Print particles and weights\n",
    "print('Particles:', particles)\n",
    "print('Weights:', weights)\n"
   ]
  },
  {
   "cell_type": "markdown",
   "metadata": {},
   "source": [
    "### 2. **Prediction (Propagation):**\n",
    "- Evolve each particle using the **state transition model**.\n",
    "- This step incorporates process noise and observation noise."
   ]
  },
  {
   "cell_type": "code",
   "execution_count": 2,
   "metadata": {},
   "outputs": [
    {
     "name": "stdout",
     "output_type": "stream",
     "text": [
      "True position: 0.9499805769766738\n"
     ]
    }
   ],
   "source": [
    "# Noise standard deviations\n",
    "motion_noise_std = 0.1\n",
    "\n",
    "# Move true object\n",
    "true_position += true_velocity + np.random.randn() * motion_noise_std  # True motion\n",
    "\n",
    "print('True position:', true_position)"
   ]
  },
  {
   "cell_type": "code",
   "execution_count": 3,
   "metadata": {},
   "outputs": [
    {
     "data": {
      "text/plain": [
       "array([0.44623855, 0.6822774 , 0.85257794, 0.55240162, 0.18907878])"
      ]
     },
     "execution_count": 3,
     "metadata": {},
     "output_type": "execute_result"
    }
   ],
   "source": [
    "# Predict (Move particles according to motion model)\n",
    "particles += true_velocity + np.random.randn(N) * motion_noise_std\n",
    "particles"
   ]
  },
  {
   "cell_type": "markdown",
   "metadata": {},
   "source": [
    "Compare the position of each particle with the true position above and note that some particles are closer to the real position than others."
   ]
  },
  {
   "cell_type": "markdown",
   "metadata": {},
   "source": [
    "### 3. **Update (Weighting):**\n",
    "- Compute the likelihood of each particle given the new observation.\n",
    "- Reweight the particles based on how well they match the observation.\n",
    "   -  The idea is that particles that have been \"luckier\" in guessing the observation value are given more weight. We could simply define the weights based on the differences between the particle positions and the observation, but this poses several issues: it neglects the standard deviations of the observation standard deviation (intuitively, larger standard deviation of the noise should make it less significant that particles end up further away from the observation); negative differences count the same as positive differences. So we use a smarter update equation below. "
   ]
  },
  {
   "cell_type": "code",
   "execution_count": 4,
   "metadata": {},
   "outputs": [
    {
     "name": "stdout",
     "output_type": "stream",
     "text": [
      "Observation data of the true position 0.9651974973208192\n"
     ]
    }
   ],
   "source": [
    "# Observation noise standard deviation\n",
    "observation_noise_std = 0.1\n",
    "\n",
    "# Obtain noisy observation\n",
    "observation = true_position + np.random.randn() * observation_noise_std\n",
    "print('Observation data of the true position', observation) # This matches something obtained from a sensor, for example"
   ]
  },
  {
   "cell_type": "code",
   "execution_count": 5,
   "metadata": {},
   "outputs": [
    {
     "data": {
      "text/plain": [
       "array([2.58443337e-06, 3.32974634e-02, 9.66336589e-01, 3.63363625e-04,\n",
       "       1.51514010e-13])"
      ]
     },
     "execution_count": 5,
     "metadata": {},
     "output_type": "execute_result"
    }
   ],
   "source": [
    "# Update weights based on observation likelihood\n",
    "weights = np.exp(-0.5 * ((particles - observation) / observation_noise_std) ** 2)\n",
    "weights += 1e-300  # Avoid zero weights, just for numerical stability\n",
    "weights /= np.sum(weights)  # Normalize: turn the weights into a probability distribution\n",
    "\n",
    "weights"
   ]
  },
  {
   "cell_type": "markdown",
   "metadata": {},
   "source": [
    "Note how some weights are higher than others, reflecting the best particles above:"
   ]
  },
  {
   "cell_type": "code",
   "execution_count": 6,
   "metadata": {},
   "outputs": [
    {
     "name": "stdout",
     "output_type": "stream",
     "text": [
      "Particle with index 2 has the highest weight estimating the position at:  0.8525779426632869\n",
      "Observation: 0.9651974973208192\n",
      "True position: 0.9499805769766738\n"
     ]
    }
   ],
   "source": [
    "# Get the index of the particle with the highest weight\n",
    "max_weight_index = np.argmax(weights)\n",
    "print(f'Particle with index {max_weight_index} has the highest weight estimating the position at: ', particles[max_weight_index])\n",
    "print('Observation:', observation)\n",
    "print('True position:', true_position)\n"
   ]
  },
  {
   "cell_type": "markdown",
   "metadata": {},
   "source": [
    "Let's break down the update code above:\n",
    "\n",
    "   1. **Difference between particles and observation:**  \n",
    "      $$\n",
    "      (particles - observation)\n",
    "      $$\n",
    "      This computes how far each particle's position is from the observed position.\n",
    "\n",
    "   2. **Standardize by the noise standard deviation:**  \n",
    "      $$\n",
    "      \\frac{(particles - observation)}{\\text{observation\\_noise\\_std}}\n",
    "      $$\n",
    "      This step normalizes the difference so that it is expressed in terms of the noise scale. If the noise is large, small differences are less significant.\n",
    "\n",
    "   3. **Square the result:**  \n",
    "      $$\n",
    "      \\left( \\frac{(particles - observation)}{\\text{observation\\_noise\\_std}} \\right)^2\n",
    "      $$\n",
    "      Squaring ensures that differences in both directions (above or below the observed value) contribute positively.\n",
    "\n",
    "   4. **Multiply by -0.5:**  \n",
    "      $$\n",
    "      -0.5 \\times \\left( \\frac{(particles - observation)}{\\text{observation\\_noise\\_std}} \\right)^2\n",
    "      $$\n",
    "      This is part of the **Gaussian function**, which follows the form:\n",
    "      $$\n",
    "      \\exp\\left( -\\frac{(x - \\mu)^2}{2\\sigma^2} \\right)\n",
    "      $$\n",
    "      Here, $\\mu = \\text{observation}$ and $\\sigma = \\text{observation\\_noise\\_std}$.\n",
    "\n",
    "   5. **Apply the exponential function:**  \n",
    "      ```python\n",
    "      np.exp(...)\n",
    "      ```\n",
    "      This converts the squared difference into a likelihood score. **Particles closer to the observation get a higher weight, while those further away get a lower weight.**\n",
    "\n",
    "   6. **Normalization**:\n",
    "      After computing the weights, we normalize them so they sum to 1:\n",
    "      ```python\n",
    "      weights /= np.sum(weights)\n",
    "      ```\n",
    "      This ensures they can be used as **probabilities** in the resampling step.\n",
    "\n",
    "\n",
    "   **Why Use This Formula?**\n",
    "   - It ensures that **particles near the observation are given higher weights**.\n",
    "   - It models **Gaussian measurement noise**, meaning our observations are assumed to follow a normal distribution around the true value.\n",
    "   - The function **preserves relative probabilities**, so when we normalize later, the most probable particles contribute more.\n"
   ]
  },
  {
   "cell_type": "markdown",
   "metadata": {},
   "source": [
    "### 4. **Resampling:**\n",
    "   - Particles with high weights are duplicated.\n",
    "   - Particles with low weights are discarded.\n",
    "   - This step prevents particle **degeneracy** (where a few particles dominate)."
   ]
  },
  {
   "cell_type": "code",
   "execution_count": 7,
   "metadata": {},
   "outputs": [
    {
     "name": "stdout",
     "output_type": "stream",
     "text": [
      "N particles that will remain:  [2 2 2 2 2]\n"
     ]
    }
   ],
   "source": [
    "# Select particles that remain. We're drawing N samples of the random choice function that selects at random indexes of particles (0...N), but since we're passing the probability distribution of each choice, the particles with higher weights will be selected more often.\n",
    "indices = np.random.choice(np.arange(N), size=N, p=weights)\n",
    "print(\"N particles that will remain: \", indices)"
   ]
  },
  {
   "cell_type": "code",
   "execution_count": 8,
   "metadata": {},
   "outputs": [
    {
     "name": "stdout",
     "output_type": "stream",
     "text": [
      "Particles before selection: [0.44623855 0.6822774  0.85257794 0.55240162 0.18907878]\n",
      "Particles after selection: [0.85257794 0.85257794 0.85257794 0.85257794 0.85257794]\n"
     ]
    }
   ],
   "source": [
    "print('Particles before selection:', particles)\n",
    "particles = particles[indices]\n",
    "print('Particles after selection:', particles)"
   ]
  },
  {
   "cell_type": "markdown",
   "metadata": {},
   "source": [
    "### 5. **Repeat:** \n",
    "- Store the estimated system state (mean of selected particles).\n",
    "- Reset the weights, and \n",
    "- repeat the above steps, as each new observation of the system arrives."
   ]
  },
  {
   "cell_type": "code",
   "execution_count": 9,
   "metadata": {},
   "outputs": [
    {
     "name": "stdout",
     "output_type": "stream",
     "text": [
      "Weights: [0.2 0.2 0.2 0.2 0.2]\n"
     ]
    }
   ],
   "source": [
    "weights = np.ones(N) / N  # Reset weights so every particle is now equally likely\n",
    "print('Weights:', weights)"
   ]
  },
  {
   "cell_type": "code",
   "execution_count": 10,
   "metadata": {},
   "outputs": [
    {
     "name": "stdout",
     "output_type": "stream",
     "text": [
      "Estimated position: 0.8525779426632869\n",
      "Standard deviation: 0.0\n"
     ]
    }
   ],
   "source": [
    "# Store estimated position (mean of particles)\n",
    "estimated_position = np.mean(particles)\n",
    "print('Estimated position:', estimated_position)\n",
    "# Get standard deviation of particles. Good to give a notion of uncertainty.\n",
    "std = np.std(particles)\n",
    "print('Standard deviation:', std)"
   ]
  },
  {
   "cell_type": "markdown",
   "metadata": {},
   "source": [
    "## Putting it all together\n",
    "\n",
    "The following code puts the above calculation together in a practical example."
   ]
  },
  {
   "cell_type": "code",
   "execution_count": 11,
   "metadata": {},
   "outputs": [
    {
     "data": {
      "image/png": "[encoded data removed]",
      "text/plain": [
       "<Figure size 1000x500 with 1 Axes>"
      ]
     },
     "metadata": {},
     "output_type": "display_data"
    }
   ],
   "source": [
    "# Number of particles\n",
    "N = 1000\n",
    "\n",
    "# True state (we don't know this in real applications)\n",
    "true_position = 0\n",
    "true_velocity = 1  # Constant velocity\n",
    "\n",
    "# Noise standard deviations\n",
    "motion_noise_std = 0.1\n",
    "observation_noise_std = 0.1\n",
    "\n",
    "# Initialize particles\n",
    "particles = np.random.uniform(-3, 4, N)  # Random positions. Change to try out different initializations\n",
    "weights = np.ones(N) / N  # Uniform weights\n",
    "\n",
    "# Simulation parameters\n",
    "num_steps = 3  # Time steps\n",
    "\n",
    "# Store results\n",
    "positions = [np.mean(particles)]  # Store estimated positions\n",
    "true_positions = [true_position]  # Store true positions\n",
    "particle_positions = [np.copy(particles)]  # Store particle positions\n",
    "\n",
    "# Particle Filter Loop\n",
    "for t in range(num_steps):\n",
    "    # Move true object\n",
    "    true_position += true_velocity + np.random.randn() * motion_noise_std  # True motion\n",
    "    true_positions.append(true_position)\n",
    "\n",
    "    # Simulate noisy observation\n",
    "    observation = true_position + np.random.randn() * observation_noise_std\n",
    "    \n",
    "    # 1. Predict (Move particles according to motion model)\n",
    "    particles += true_velocity + np.random.randn(N) * motion_noise_std\n",
    "    \n",
    "    # 2. Update weights based on observation likelihood\n",
    "    weights = np.exp(-0.5 * ((particles - observation) / observation_noise_std) ** 2)\n",
    "    weights += 1e-300  # Avoid zero weights\n",
    "    weights /= np.sum(weights)  # Normalize\n",
    "    \n",
    "    # 3. Resample: Select particles based on their weights\n",
    "    indices = np.random.choice(np.arange(N), size=N, p=weights)\n",
    "    particles = particles[indices]\n",
    "    weights = np.ones(N) / N  # Reset weights\n",
    "    \n",
    "    assert len(particles) == N\n",
    "\n",
    "    # Store particle positions\n",
    "    particle_positions.append(np.copy(particles))\n",
    "\n",
    "    # Store estimated position (mean of particles)\n",
    "    estimated_position = np.mean(particles)\n",
    "    positions.append(estimated_position)\n",
    "\n",
    "# Plot results\n",
    "plt.figure(figsize=(10, 5))\n",
    "plt.plot(range(num_steps+1), positions, label=\"Estimated Position\", linestyle=\"dashed\")\n",
    "plt.plot(range(num_steps+1), true_positions, label=\"True Position\", color='r')\n",
    "\n",
    "# Plot particles\n",
    "for t in range(num_steps):\n",
    "    plt.scatter([t] * N, particle_positions[t], color='b', s=1)\n",
    "    \n",
    "plt.xlabel(\"Time step\")\n",
    "plt.ylabel(\"Position\")\n",
    "plt.legend()\n",
    "plt.title(\"Particle Filter Tracking\")\n",
    "plt.show()"
   ]
  }
 ],
 "metadata": {
  "kernelspec": {
   "display_name": "Python 3",
   "language": "python",
   "name": "python3"
  },
  "language_info": {
   "codemirror_mode": {
    "name": "ipython",
    "version": 3
   },
   "file_extension": ".py",
   "mimetype": "text/x-python",
   "name": "python",
   "nbconvert_exporter": "python",
   "pygments_lexer": "ipython3",
   "version": "3.11.2"
  }
 },
 "nbformat": 4,
 "nbformat_minor": 4
}
