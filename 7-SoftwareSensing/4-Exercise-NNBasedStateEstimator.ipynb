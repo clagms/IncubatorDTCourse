{
 "cells": [
  {
   "attachments": {},
   "cell_type": "markdown",
   "metadata": {},
   "source": [
    "# Advanced Exercise: Incubator State Estimation using a Neural Network\n",
    "\n",
    "In this exercise, you will train a neural network to perform the same job as the kalman filter. The idea is to get the network to predict accurately the temperature of the heater. \n",
    "\n",
    "For this to work, you will need to:\n",
    "1. Generate lots of simulation data using the [IncubatorDynamics](../3-Physics-Modelling/2-ModellingIncubatorDynamics.ipynb) model.\n",
    "2. Define your own NN similar to [the NN used for monitoring](../3-Physics-Modelling/4-TrainingIncubatorNN.ipynb), except it now has two outputs (box temperature and heater temperature).\n",
    "3. Deploy and test the NN based state estimation, similarly to the [NNBasedMonitoringService](../3-Physics-Modelling/5-NNBasedMonitoringService.ipynb)\n"
   ]
  }
 ],
 "metadata": {
  "kernelspec": {
   "display_name": "Python 3",
   "language": "python",
   "name": "python3"
  },
  "language_info": {
   "codemirror_mode": {
    "name": "ipython",
    "version": 3
   },
   "file_extension": ".py",
   "mimetype": "text/x-python",
   "name": "python",
   "nbconvert_exporter": "python",
   "pygments_lexer": "ipython3",
   "version": "3.11.2"
  }
 },
 "nbformat": 4,
 "nbformat_minor": 4
}
